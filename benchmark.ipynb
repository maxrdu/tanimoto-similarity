{
 "cells": [
  {
   "cell_type": "code",
   "execution_count": 1,
   "metadata": {},
   "outputs": [],
   "source": [
    "import perfplot\n",
    "from tanimoto import tanimoto_similarity\n",
    "from rdkit import Chem\n",
    "from rdkit.Chem import rdFingerprintGenerator\n",
    "import numpy as np"
   ]
  },
  {
   "cell_type": "code",
   "execution_count": 2,
   "metadata": {},
   "outputs": [],
   "source": [
    "def smi2fp(smile, radius=2, n_bits=2048):\n",
    "    \"\"\"Convert SMILES string to Morgan fingerprint.\"\"\"\n",
    "    mfpgen = rdFingerprintGenerator.GetMorganGenerator(radius=radius, fpSize=n_bits)\n",
    "    mol = Chem.MolFromSmiles(smile)\n",
    "    if mol is None:\n",
    "        return np.zeros(n_bits)  # Return a zero vector for invalid SMILES\n",
    "    fp = mfpgen.GetFingerprint(mol)\n",
    "    return fp\n",
    "\n",
    "def create_zinc_fps():\n",
    "    with open(\"zinc20k.csv\", \"r\") as f:\n",
    "        smiles = f.read().splitlines()\n",
    "\n",
    "    return [smi2fp(smi) for smi in smiles]"
   ]
  },
  {
   "cell_type": "code",
   "execution_count": 3,
   "metadata": {},
   "outputs": [],
   "source": [
    "simple = [\n",
    "    \"CCO\",  # Ethanol\n",
    "    \"CCC\",  # Propane\n",
    "    \"CCN\",  # Ethylamine\n",
    "    \"CCOCC\",  # Diethyl ether\n",
    "    \"CC(=O)O\",  # Acetate\n",
    "    \"CCOCCO\",  # Ethylene glycol diethyl ether\n",
    "    \"CC(C)O\",  # Isopropanol\n",
    "    \"C1CCCCC1\",  # Cyclohexane\n",
    "    \"C1=CC=CC=C1\",  # Benzene\n",
    "    \"CC(C)C\",  # Isobutane\n",
    "]\n",
    "\n",
    "SIMPLE_FPS = [smi2fp(smi) for smi in simple]\n",
    "FPS = create_zinc_fps()"
   ]
  },
  {
   "cell_type": "code",
   "execution_count": 4,
   "metadata": {},
   "outputs": [],
   "source": [
    "import torch\n",
    "A = np.array([list(fp) for fp in SIMPLE_FPS], dtype=np.bool_)\n",
    "B = np.array([list(fp) for fp in FPS], dtype=np.bool_)\n",
    "At = torch.tensor([list(fp) for fp in SIMPLE_FPS]).bool()\n",
    "Bt = torch.tensor([list(fp) for fp in FPS]).bool()"
   ]
  },
  {
   "cell_type": "code",
   "execution_count": null,
   "metadata": {},
   "outputs": [
    {
     "data": {
      "application/vnd.jupyter.widget-view+json": {
       "model_id": "82af66ba0e054352b694d755cd9b0687",
       "version_major": 2,
       "version_minor": 0
      },
      "text/plain": [
       "Output()"
      ]
     },
     "metadata": {},
     "output_type": "display_data"
    }
   ],
   "source": [
    "ns = [2**k for k in range(4, 15)] + [len(FPS)]\n",
    "\n",
    "out = perfplot.show(\n",
    "    setup=lambda n: n,\n",
    "    kernels=[\n",
    "        lambda n: tanimoto_similarity(SIMPLE_FPS, FPS[:n], method=\"rdkit\", convert=False),\n",
    "        lambda n: tanimoto_similarity(A[:n, :], B[:n, :], method=\"numpy\", convert=False),\n",
    "        lambda n: tanimoto_similarity(A[:n, :], B[:n, :], method=\"scipy\", convert=False),\n",
    "        lambda n: tanimoto_similarity(At[:n, :], Bt[:n, :], method=\"torch\", convert=False),\n",
    "        #lambda n: tanimoto_similarity(At[:n, :], Bt[:n, :], method=\"torch-compile\", convert=False),\n",
    "        lambda n: tanimoto_similarity(At[:n, :].float(), Bt[:n, :].float(), method=\"torch-dot\", convert=False),\n",
    "        lambda n: tanimoto_similarity(A[:n, :], B[:n, :], method=\"numba\", convert=False),\n",
    "        lambda n: tanimoto_similarity(A[:n, :].astype(np.float32), B[:n, :].astype(np.float32), method=\"numpy-dot\", convert=False),\n",
    "    ],\n",
    "    labels=[\"rdkit\", \"numpy\", \"scipy\", \"torch\", \"numba\", \"torch-dot\", \"numpy-dot\"],\n",
    "    n_range=ns,\n",
    "    xlabel=\"len(B)\",\n",
    "    logx=False,\n",
    "    logy=True\n",
    ")"
   ]
  },
  {
   "cell_type": "code",
   "execution_count": null,
   "metadata": {},
   "outputs": [],
   "source": []
  }
 ],
 "metadata": {
  "kernelspec": {
   "display_name": "Python 3 (ipykernel)",
   "language": "python",
   "name": "python3"
  },
  "language_info": {
   "codemirror_mode": {
    "name": "ipython",
    "version": 3
   },
   "file_extension": ".py",
   "mimetype": "text/x-python",
   "name": "python",
   "nbconvert_exporter": "python",
   "pygments_lexer": "ipython3",
   "version": "3.12.9"
  }
 },
 "nbformat": 4,
 "nbformat_minor": 4
}
